{
 "cells": [
  {
   "cell_type": "markdown",
   "id": "621d3c7e-2f7d-4f0a-a30c-39b8f004b60b",
   "metadata": {},
   "source": [
    "# Week 3"
   ]
  },
  {
   "cell_type": "markdown",
   "id": "15fbbe06-229d-4ef2-a713-4e8c6fdea1e5",
   "metadata": {},
   "source": [
    "## Lecture 5.1\n",
    "- we are looking into the structure of 2 level forms. up to now we have worked on representation. we now want to move to synthesis. The first place is the classical two level logic. \n",
    "- we want to minimize the number of literals \n",
    "- None of the methods are effective (Boolean algebra, Kmaps, Tabular solution)\n",
    "**We need a better strategy**\n",
    "- Just get a good answer\n",
    "- Iterative improvement. Reshape the solution to discover a better answer.  \n",
    "<img src=\"images/week3_Best_vs_good.png\" width=800px>\n",
    "\n",
    "**Neither can be improved by primes**\n",
    "- Both solutions are irredundant: we can't remove a cube without changing the function"
   ]
  },
  {
   "cell_type": "markdown",
   "id": "a424fe06-4056-43cf-8720-51a2dbd54b52",
   "metadata": {},
   "source": [
    "## Lecture 5.2: Reduce-Expand-Irredundant-Optimization Loop \n",
    "this is a heuristic. We are getting a high level tour. \n",
    "<img src=\"images/week3_TT_dontcares.png\" width=800px>\n",
    "\n",
    "**The goal is to start with this and then do some optimization**\n",
    "\n",
    "<img src=\"images/week3_expand.png\" width=800px>\n",
    "\n",
    "<img src=\"images/week3_irredundant.png\" width=800px>\n",
    "\n",
    "<img src=\"images/week3_reduce.png\" width=800px>\n",
    "\n",
    "<img src=\"images/week3_expand_again.png\" width=800px>\n",
    "\n",
    "<img src=\"images/week3_irredundant_again.png\" width=800px>\n",
    "\n",
    "<img src=\"images/week3_reduce_expand_irredundant_loop.png\" width=800px>"
   ]
  },
  {
   "cell_type": "markdown",
   "id": "a21f315e-523a-4bc7-8be2-56ce823beb41",
   "metadata": {},
   "source": [
    "## Lecture 5.3 Details for One step: logic \n",
    "## I didn't watch this video"
   ]
  },
  {
   "cell_type": "markdown",
   "id": "d2ee8fdd-6514-420c-a8ba-c8309926668a",
   "metadata": {},
   "source": [
    "## Lecture 6.1 \n",
    "In this lecture we will be looking at the universe of multi level logic. The gates and wires might not be enough for us. \n",
    "<img src=\"images/week3_why_multi_level.png\" width=800px>\n",
    "<img src=\"images/week3_why_multi_level2.png\" width=800px>\n",
    "<img src=\"images/week3_boolean_logic_network.png\" width=800px>\n",
    "<img src=\"images/week3_boolean_logic_network_total_literal_count.png\" width=800px>\n",
    "<img src=\"images/week3_bln_optimizing.png\" width=800px>\n",
    "<img src=\"images/week3_bln_optimizing2.png\" width=800px>\n",
    "<img src=\"images/week3_bln_optimizing_factoring.png\" width=800px>"
   ]
  },
  {
   "cell_type": "markdown",
   "id": "e143442e-acba-4123-bcb3-f1813b53f5ac",
   "metadata": {},
   "source": [
    "## Lecture 6.2 \n",
    "we introduce a new mathematical logic that goes inside the nodes. It's name is Algebraic model \n",
    "- let's throw away that makes the function hard: i.e, the parts that makes them not look like polynomials in real numbers\n",
    "- Multilevel synthesis (like 2 level ) is heuristic but more complex. we write scripts of basic operators. \n",
    "- do several passes, cleanup, look for easy factors, look for hard factors, do 2 level optimization of inside each node in the networks. \n",
    "- a lot of art in the engineering of these scripts \n",
    "**The heart of multileve optimization is factoring**\n",
    "- me might lose some expressivity but gain practiccal factoring \n",
    "- The term Algebraic model comes from thinking that the expressions come from polynomials of real numbers \n",
    "**Big new Boolean operator: Algebraic Division (Also called \"weak\" division)**\n",
    "\n",
    "<img src=\"images/week3_algebraic_model.png\" width=800px>\n",
    "<img src=\"images/week3_algebraic_model2.png\" width=800px>\n",
    "<img src=\"images/week3_algebraic_algebraic_division.png\" width=800px>\n",
    "<img src=\"images/week3_algebraic_algebraic_division2.png\" width=800px>\n",
    "\n",
    "**How do we do this?**"
   ]
  },
  {
   "cell_type": "markdown",
   "id": "acd210d6-d52b-40c6-a753-b8454f22849e",
   "metadata": {},
   "source": [
    "## Lecture 6.4: Role of Kernels and Co-Kernels\n",
    "- How to find the best factors. \n",
    "- Algebraic model has the answer: kernels and co-kernels \n",
    " <img src=\"images/week3_kernels_cube_free.png\" width=\"800px\">\n",
    " <img src=\"images/week3_kernels_examples.png\" width=\"800px\">\n",
    " <img src=\"images/week3_kernels_why_important.png\" width=\"800px\">\n",
    " <img src=\"images/week3_kernels_brayton_mcmullen.png\" width=\"800px\">\n",
    " <img src=\"images/week3_kernels_real_example.png\" width=\"800px\">"
   ]
  },
  {
   "cell_type": "markdown",
   "id": "ea3a13e8-0190-4cf4-9df6-eaca062e462e",
   "metadata": {},
   "source": [
    "## Lecture 6.5: Logic Synthesis: Multilevel Logic: Finding The Kernels\n",
    "**There is a recursive algorithm**\n",
    "\n",
    "- Start with a function F and a kernel K1 in K(F)\n",
    "**A new interesting question: what about K(k1)?**\n",
    "- Do the kernels of k1 have anything interesting to say about K(F)?\n",
    "- let's say k2 is a kernel of k1 i.e, \n",
    "$$\n",
    "F= cube_1 \\cdot k_1 + R_1, k_1= cube_2 \\cdot k_2 + R_2 \\longrightarrow F=cube_1[cube_2\\cdot k_2 + R_2]+R_1 \\longrightarrow F = (cube_1 \\cdot cube_2)\\cdot k_2 + cube_1\\cdot R_2 + R_1\n",
    "$$\n",
    "**Thus k2 is also a kernel of F**\n",
    "\n",
    "<img src=\"images/week3_kernels_hierarchy.png\" width=\"800px\">\n",
    "<img src=\"images/week3_kernels_hierarchy2.png\" width=\"800px\">\n",
    "<img src=\"images/week3_kernels_hierarchy3.png\" width=\"800px\">\n",
    "<img src=\"images/week3_kernels_algorithm.png\" width=\"800px\">\n",
    "<img src=\"images/week3_kernels_algorithm_example.png\" width=\"800px\">\n",
    "<img src=\"images/week3_kernels_usage.png\" width=\"800px\">\n",
    "<img src=\"images/week3_multilevel_summary.png\" width=\"800px\">\n",
    "<img src=\"images/week3_multilevel_notes.png\" width=\"800px\">"
   ]
  }
 ],
 "metadata": {
  "kernelspec": {
   "display_name": "Python 3.9.7 64-bit ('data': venv)",
   "language": "python",
   "name": "python397jvsc74a57bd0010941cb570a2f7ee6318851e4993fa889b23f664fd79d476a44bff1a5b5a8df"
  },
  "language_info": {
   "codemirror_mode": {
    "name": "ipython",
    "version": 3
   },
   "file_extension": ".py",
   "mimetype": "text/x-python",
   "name": "python",
   "nbconvert_exporter": "python",
   "pygments_lexer": "ipython3",
   "version": "3.9.7"
  }
 },
 "nbformat": 4,
 "nbformat_minor": 5
}
