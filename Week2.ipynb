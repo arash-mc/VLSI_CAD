{
 "cells": [
  {
   "cell_type": "markdown",
   "id": "c56382f6-1c67-4912-9747-4051da03b2e1",
   "metadata": {},
   "source": [
    "# Week 2\n",
    "## Lecture 3.1 BDD Basics, Part1 \n",
    "Binary Decision Diagrams: BDDs\n",
    "- We ended up with the URP tautology last week. But URP is not the way people do it. \n",
    "- BDDs were first studied by Lee, Boute and Akers\n",
    "- They became seriousely useful in 1986 By Randy Bryant of CMU woth ROBDDs (Reduced order BDDs)\n",
    "\n",
    "<img src=\"images/week2_BDD_Truth_tables.png\" width=800px>\n",
    "\n",
    "**Canonical Form of BDD**:\n",
    "- A representation that does not depend on gate implementation of a boolean function.\n",
    "- Same function of same variables always produces this exact same representation \n",
    "- A truth table is canonical. "
   ]
  },
  {
   "cell_type": "markdown",
   "id": "af862649-b37e-4acc-970a-be44cda67a98",
   "metadata": {},
   "source": [
    "## Lecture 3.2 BDD Basics, Part2\n",
    "- First big idea was: The BDD\n",
    "- Second big idea was: Global ordering of variable\n",
    "- Third big idea is: Reduction\n",
    "\n",
    "**Reduction Rules**\n",
    "Reduction rule 1: \n",
    "\n",
    "<img src=\"images/week2_Reduction_1.png\" width=800px>\n",
    "<img src=\"images/week2_Reduction_2.png\" width=800px>\n",
    "<img src=\"images/week2_Reduction_3.png\" width=800px>\n",
    "<img src=\"images/week2_Reduction_final.png\" width=800px>"
   ]
  },
  {
   "cell_type": "markdown",
   "id": "09fc3391-950e-4fd4-858a-2b4b5b0a215e",
   "metadata": {},
   "source": [
    "## Lecture 3.3 BDD Sharing\n",
    "- We can represent any function as a ROBDD\n",
    "- Every node in a BDD is a function itself\n",
    "- One can share BDDs of functions that have usecases \n",
    "\n",
    " <img src=\"images/week2_Multi_routed_Sharing.png\" width=800px>\n"
   ]
  },
  {
   "cell_type": "markdown",
   "id": "e79784a3-7ad5-4580-8417-8fcb85dd2373",
   "metadata": {},
   "source": [
    "## Lecture 3.4 BDD Ordering \n",
    "<img src=\"images/week2_BDD_OPS.png\" width=800px>\n",
    "<img src=\"images/week2_BDD_incrementally.png\" width=800px>\n",
    "<img src=\"images/week2_BDD_ordering_matters.png\" width=800px>\n",
    "<img src=\"images/week2_BDD_ordering_consequences.png\" width=800px>\n",
    "<img src=\"images/week2_BDD_ordering_arithmetic.png\" width=800px>\n",
    "<img src=\"images/week2_BDD_summary.png\" width=800px>\n"
   ]
  }
 ],
 "metadata": {
  "kernelspec": {
   "display_name": "django",
   "language": "python",
   "name": "django"
  },
  "language_info": {
   "codemirror_mode": {
    "name": "ipython",
    "version": 3
   },
   "file_extension": ".py",
   "mimetype": "text/x-python",
   "name": "python",
   "nbconvert_exporter": "python",
   "pygments_lexer": "ipython3",
   "version": "3.9.9"
  }
 },
 "nbformat": 4,
 "nbformat_minor": 5
}
