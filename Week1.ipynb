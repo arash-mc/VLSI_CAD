{
 "cells": [
  {
   "cell_type": "markdown",
   "id": "b5522f91-5c73-4397-ad33-92d87997ee4c",
   "metadata": {},
   "source": [
    "# VLSI LOGIC COURSE PART 1\n",
    "## Week1"
   ]
  },
  {
   "cell_type": "markdown",
   "id": "92b5f69b-f9ba-4207-9996-1bc781040b13",
   "metadata": {},
   "source": [
    "### Lecture 1\n",
    "We will move from abstract to real in these courses. \n",
    "- You only need the undergrad basics. \n",
    "- We are interested in the design of tools to turn the ideas into chips. \n",
    "- it was a longer course now put into two courses. \n",
    "#### 4 large topics in the first part of the course \n",
    "<ol>\n",
    "    <li>\n",
    "        How do we move from equation vision of boolean algebra to the data structure of the boolean algebra. \n",
    "    </li>\n",
    "        <li>\n",
    "        Verification: How do I look at a blob of a million gate and ask a question of \"is it right?\"\n",
    "    </li>\n",
    "            <li>\n",
    "       Synthesis of the first order logic\n",
    "    </li>\n",
    "                <li>\n",
    "       Synthesis of second order logic\n",
    "    </li>\n",
    "    \n",
    "</ol>\n",
    "\n",
    "**In this course we are interested in the design of algorithms and development of the tools rather than using them**\n",
    "<img src=\"images/week1_course_overview1.png\" style=\"width:800px\">\n"
   ]
  },
  {
   "cell_type": "markdown",
   "id": "62a22db4-177c-4fa7-b869-2ce6a6fb3e73",
   "metadata": {},
   "source": [
    "#### Semi Custom vs Full Custom\n",
    "<table>\n",
    "    <tr>\n",
    "        <td>\n",
    "            Semi custom\n",
    "        </td>\n",
    "        <td>\n",
    "            Full Custom\n",
    "        </td>\n",
    "    </tr>\n",
    "        <tr>\n",
    "        <td>\n",
    "            Using pre existing Elements\n",
    "        </td>\n",
    "        <td>\n",
    "            Down to the individual transistor level\n",
    "        </td>\n",
    "    </tr>\n",
    "</table>\n",
    "**Today only microprocessors are Full custom and even those have many semi-custom parts on them**\n",
    "\n",
    "<b>EDA: Electronic Design Automation</b> This is what inside folks call it but it might not be as clear to other people. \n",
    "\n",
    "<b> System on Chip SOC: </b>\n",
    "\n",
    "<img src=\"images/week1_SOC.png\" style=\"width:800px\">"
   ]
  },
  {
   "cell_type": "markdown",
   "id": "8ad63a32-c4e7-4273-ae07-1b86554d1f77",
   "metadata": {},
   "source": [
    "<img src=\"images/week1_CAD_FLOW.png\" style=\"width:800px\">\n"
   ]
  },
  {
   "cell_type": "markdown",
   "id": "06bce936-deba-49d2-8e8b-1c723e0d5c78",
   "metadata": {},
   "source": [
    "<img src=\"images/week1_Class.png\" style=\"width:800px\">\n"
   ]
  },
  {
   "cell_type": "markdown",
   "id": "851ef3c5-8c8a-4658-b6ad-9a15b1c8c19a",
   "metadata": {},
   "source": [
    "### Lecture 2.1\n",
    "How to make complicated boolean equations into simpler things \n",
    "**What if we want to do a 40 variable optimization with a Kmap**\n",
    "we need to be able to do everything with <b>Data structures</b> and <b>Operators </b>\n",
    "<ol>\n",
    "    <li>\n",
    "        - Decomposition strategies: Ways of taking apart complex functions into simpler pieces. \n",
    "        - A set of advanced concepts \n",
    "    </li>\n",
    "        <li>\n",
    "            Computation strategies: Ways to think about boolean functions and let them be manipulated by programs. \n",
    "    </li>\n",
    "        <li>\n",
    "            Interesting appliactions: \n",
    "    </li>\n",
    "</ol>\n",
    "\n",
    "**Shannon Expansion is the Equivalent of Taylor series for Boolean Algebra**\n",
    "\n",
    "<img src=\"images/week1_Shannon.png\" style=\"width:800px\">"
   ]
  },
  {
   "cell_type": "markdown",
   "id": "df54e7cd-dcba-451a-9bc6-d5a80a9b6917",
   "metadata": {},
   "source": [
    "<img src=\"images/week1_Shannon_Theorem.png\" style=\"width:800px\">\n"
   ]
  },
  {
   "cell_type": "markdown",
   "id": "c0b9ef43-fc90-4128-8c1f-5382e16a7210",
   "metadata": {},
   "source": [
    "<img src=\"images/week1_Shannon_Another_view.png\" style=\"width:800px\">\n"
   ]
  },
  {
   "cell_type": "markdown",
   "id": "360e6e20-a562-459d-b902-14f700628d26",
   "metadata": {},
   "source": [
    "### Lecture 2.2: Boolean Difference\n",
    "What can we do with cofactors. \n",
    "Let's say we have functions F and G and we make the function H from them \n",
    "- $H = \\overline F$\n",
    "- $H = (F\\cdot G)$\n",
    "- $H = (F\\oplus G)$\n",
    "**Can you say anything about the cofactors of H regarding the cofactors of F and G?**\n",
    "- $ (\\overline F)_x = \\overline F_x $\n",
    "- $(F\\cdot G)_x = F_x \\cdot G_x$\n",
    "- $(F + G)_x = F_x + G_x$\n",
    "- $(F\\oplus G)_x = F_x \\oplus G_x$\n",
    "**What about the operations on the cofactors themselves**\n",
    "<p>\n",
    "1- Boolean Difference: $(\\partial/\\partial x) F =  F_x \\oplus F_{\\overline x}$\n",
    "</p>\n",
    "\n",
    "- $(\\partial/\\partial x \\partial y) F=(\\partial/\\partial y \\partial x)F$\n",
    "- $(\\partial/\\partial x) (F \\oplus G) = \\partial/\\partial x F \\oplus \\partial/\\partial x G$\n",
    "- If the function is a constant the difference is zero. \n",
    "\n",
    "**Boolean Difference in the gate level**\n",
    "- $F = \\overline x \\rightarrow (\\partial/\\partial x)F = 1$\n",
    "- $F = x\\cdot y \\rightarrow (\\partial/\\partial x)F = y$\n",
    "- $F = x + y \\rightarrow (\\partial/\\partial x)F = \\overline y$\n",
    "- $F = x \\oplus y \\rightarrow (\\partial/\\partial x)F = 1$\n",
    "\n",
    "**important things to remember about Boolean Difference**\n",
    "\n",
    "- It is not exactly the same as derivative but it explains how an input change can change the output\n",
    "- $\\partial F \\partial x$ is another boolean function but it doesn't depend on x\n",
    "\n",
    "\n"
   ]
  },
  {
   "cell_type": "markdown",
   "id": "2ea26e7f-88f4-43be-9222-5ac342c8fcf6",
   "metadata": {},
   "source": [
    "### Lecture 2.3: Quantification Operators\n",
    "- We have Existensial Quantification and Universal Quantifications. \n",
    "- We want to remove the unwanted variables from a function to make a much easier function \n",
    "- Universal Cofactor with respect to x:  $(\\forall x F) = F_x \\cdot F_{\\overline x}$\n",
    "- Existential Cofactor with respect to x: $(\\exists x F) = F_x + F_{\\overline x}$\n",
    " \n"
   ]
  },
  {
   "cell_type": "markdown",
   "id": "65094c89-d502-4c08-ab29-6ca6c5a98d01",
   "metadata": {},
   "source": [
    "### Lecture 2.4: Application to Logic Network Repair\n",
    "Suppose we are given the specification of a boolean function with a lot of logic gates in it and we have got it wrong and now we want to fix it.  \n",
    "\n",
    "<img src=\"images/week1_Network_repair_problem.png\" style=\"width:800px\">\n",
    "\n",
    "Now we replace our defined gate with a 2 to four multiplexer: \n",
    "\n",
    "<img src=\"images/week1_Network_repair_sol1.png\" style=\"width:800px\">\n",
    "\n",
    "Now if we XNOR (equality check) the outputs \n",
    "<img src=\"images/week1_Network_repair_sol2.png\" style=\"width:800px\">\n",
    "\n",
    "We want the values for d values to make Z =1 for all possible values of a and b i.e., $(\\forall a,b Z)[d_0, d_1, d_2, d_3] ==1$\n",
    "**This computation is the Boolean satisfiability**\n",
    "**Ability to do Boolean SAT efficiently is a big goal for us.**\n"
   ]
  },
  {
   "cell_type": "markdown",
   "id": "27adaa48-a17e-4f00-8f51-715fa4313c80",
   "metadata": {},
   "source": [
    "## Lecture 2.5: Recursive tautology\n",
    "- We want to have a concrete data structure. \n",
    "- We are given a representation of a function and we build an algorithm to say yes or no if the function is always one for any input\n",
    "- This is very hard because if we increase the number of inputs the check would take exponential time. \n",
    " - We use a set of OR'ed product terms so each product term is a hyper-cube with solid corners where the function is 1\n",
    "** We first represent it: \n",
    "\n",
    "<img src=\"images/week1_Recursive_tautalogy__PCN.png\" style=\"width:800px\">\n",
    "\n",
    "**So $f(a,b,c)= \\overline a + bc + ab $= [10 11 11], [11 01 01], [01 01 11]**\n",
    "\n",
    "**How do we approach tautology as computation**\n",
    "**F is a tautology if both the positive and negative cofactors are tautologies**\n",
    "$$ x\\cdot F_x + \\overline x \\cdot F_{\\overline x} = x + \\overline x = 1$$\n",
    "\n",
    "**Thus when we are faced with the question if a function is a tautology we first check both tautologies for a variable**\n",
    "\n",
    "<img src=\"images/week1_Recursive_tautalogy_strategy.png\" style=\"width:800px\">"
   ]
  },
  {
   "cell_type": "markdown",
   "id": "d20c5a99-ba15-417f-a132-63d0eef16dc9",
   "metadata": {},
   "source": [
    "## Lecture 2.6: Recursive Tautology-URP Implementation\n",
    "**URP: Unate Recursive Paradigm**\n",
    "<img src=\"images/week1_URP_recursive_cofactoring.png\" style=\"width:800px\">\n",
    "\n",
    "$f_a$ = [11 01 11 01], [11 01 10 11]\n",
    "\n",
    "$f_c$ = [01 01 11 01]\n",
    "\n",
    "**Unate functions**\n",
    "\n",
    "<img src=\"images/week1_URP_unate1.png\" style=\"width:800px\">\n",
    "\n",
    "**important result: Cannot make a 1 with only product terms where all literals are just one polarity** \n",
    "**Thus: unate cube list for f is a tautology iff it contains all don't care cube = [11 11 ... 11]**\n",
    "\n",
    "**The best idea is to pick the most non-unate variable to split**\n",
    "\n",
    "<img src=\"images/week1_URP_unate2.png\" style=\"width:800px\">\n",
    "\n",
    "**Algorithm**\n",
    "\n",
    "\n",
    "<img src=\"images/week1_URP_algorithm.png\" style=\"width:800px\">\n",
    "\n",
    "\n",
    "**Summary**\n",
    "\n",
    "<img src=\"images/week1_URP_summary.png\" style=\"width:800px\">\n",
    " \n",
    "\n"
   ]
  },
  {
   "cell_type": "code",
   "execution_count": null,
   "id": "f06b0e02-5df6-4f91-8141-0d2d33f1650b",
   "metadata": {},
   "outputs": [],
   "source": []
  }
 ],
 "metadata": {
  "kernelspec": {
   "display_name": "django",
   "language": "python",
   "name": "django"
  },
  "language_info": {
   "codemirror_mode": {
    "name": "ipython",
    "version": 3
   },
   "file_extension": ".py",
   "mimetype": "text/x-python",
   "name": "python",
   "nbconvert_exporter": "python",
   "pygments_lexer": "ipython3",
   "version": "3.9.9"
  }
 },
 "nbformat": 4,
 "nbformat_minor": 5
}
